{
 "cells": [
  {
   "cell_type": "markdown",
   "metadata": {},
   "source": [
    "## Stock Market Analysis"
   ]
  },
  {
   "cell_type": "markdown",
   "metadata": {},
   "source": [
    "In this notebook, we will discover and explore data from the stock market, particularly some dead stocks. We will see how to use UpstoxApi by [Upstox](https://upstox.com/) to get stock historical data, for 1 min chart(open, high, low, close)."
   ]
  },
  {
   "cell_type": "markdown",
   "metadata": {},
   "source": [
    "### Getting the Instrument details"
   ]
  },
  {
   "cell_type": "markdown",
   "metadata": {},
   "source": [
    "* instrument_key\t-->\tThe unique identifier used across Upstox APIs for instrument identification.\n",
    "* exchange_token\t-->\tThe numerical identifier issued by the exchange representing the instrument.\n",
    "* tradingsymbol\t    -->\tShows the trading symbol which could be a combination of symbol name, instrument, expiry date etc.\n",
    "* name\t            -->\tName of the company (for equity instruments).\n",
    "* last_price\t    -->\tLast traded price.\n",
    "* expiry\t        -->\tExpiry date (for derivatives). Data format is yyyy-MM-dd\n",
    "* strike\t        -->\tIndicates the predetermined price at which an option can be bought or sold when it's exercised.\n",
    "* tick_size\t        -->\tMeasure of the minimum upward or downward movement in the price of an instrument.\n",
    "* lot_size\t        -->\tMinimum size in which the stock futures or index futures can be traded.\n",
    "* instrument_type\t-->\tInstrument type of a particular contract. Possible values: FUTSTK, OPTSTK, OPTIDX etc.\n",
    "* option_type\t    -->\tOption type of the option contracts (applicable only for options contract). Possible values: CE, PE\n",
    "* exchange\t        -->\tExchange to which the order is associated.Possible values: NSE_EQ, NSE_FO, NCD_FO, NSE_INDEX, BSE_EQ, BSE_FO, BCD_FO, BSE_INDEX, MCX_FO, NSE_COM etc."
   ]
  },
  {
   "cell_type": "code",
   "execution_count": 1,
   "metadata": {},
   "outputs": [
    {
     "name": "stdout",
     "output_type": "stream",
     "text": [
      "[\n",
      "    {\n",
      "        \"segment\": \"NSE_EQ\",\n",
      "        \"name\": \"LAKSHYA POWERTECH LIMITED\",\n",
      "        \"exchange\": \"NSE\",\n",
      "        \"isin\": \"INE0VZS01015\",\n",
      "        \"instrument_type\": \"SM\",\n",
      "        \"instrument_key\": \"NSE_EQ|INE0VZS01015\",\n",
      "        \"lot_size\": 800,\n",
      "        \"freeze_quantity\": 100000.0,\n",
      "        \"exchange_token\": \"25860\",\n",
      "        \"tick_size\": 5.0,\n",
      "        \"trading_symbol\": \"LAKSHYA\",\n",
      "        \"qty_multiplier\": 1.0,\n",
      "        \"security_type\": \"SME\"\n",
      "    }\n",
      "]\n"
     ]
    }
   ],
   "source": [
    "import gzip\n",
    "import json\n",
    "\n",
    "# Path to the compressed JSON file\n",
    "file_path = \"NSE.json.gz\"\n",
    "\n",
    "# Function to extract and read JSON data\n",
    "def extract_json_data(file_path):\n",
    "    with gzip.open(file_path, 'rt', encoding='utf-8') as file:\n",
    "        data = json.load(file)\n",
    "    return data\n",
    "\n",
    "# Extract data\n",
    "data = extract_json_data(file_path)\n",
    "\n",
    "# Function to filter by segment\n",
    "def filter_by_segment(data, segment=None, name=None, instrument_type=None, \n",
    "                      instrument_key=None, exchange_token=None, trading_symbol=None):\n",
    "    \n",
    "    filtered_data = []\n",
    "    for item in data:\n",
    "        if (\n",
    "            (segment is None or item.get(\"segment\") == segment)\n",
    "            and (name is None or item.get(\"name\") == name)\n",
    "            and (instrument_type is None or item.get(\"instrument_type\") == instrument_type)\n",
    "            and (instrument_key is None or item.get(\"instrument_key\") == instrument_key)\n",
    "            and (exchange_token is None or item.get(\"exchange_token\") == exchange_token)\n",
    "            and (trading_symbol is None or item.get(\"trading_symbol\") == trading_symbol)\n",
    "        ):\n",
    "            filtered_data.append(item)\n",
    "\n",
    "    \n",
    "    return filtered_data\n",
    "\n",
    "# Example: Filter for 'NCD_FO' segment\n",
    "filtered_data = filter_by_segment(data, \"NSE_EQ\", \"LAKSHYA POWERTECH LIMITED\", None, None, None, None)\n",
    "\n",
    "# Print the first 5 records from the filtered data\n",
    "print(json.dumps(filtered_data, indent=4))"
   ]
  },
  {
   "cell_type": "code",
   "execution_count": null,
   "metadata": {},
   "outputs": [],
   "source": []
  }
 ],
 "metadata": {
  "kernelspec": {
   "display_name": "venv",
   "language": "python",
   "name": "python3"
  },
  "language_info": {
   "codemirror_mode": {
    "name": "ipython",
    "version": 3
   },
   "file_extension": ".py",
   "mimetype": "text/x-python",
   "name": "python",
   "nbconvert_exporter": "python",
   "pygments_lexer": "ipython3",
   "version": "3.12.2"
  }
 },
 "nbformat": 4,
 "nbformat_minor": 2
}
