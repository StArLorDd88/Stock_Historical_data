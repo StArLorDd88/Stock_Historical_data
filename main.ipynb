{
 "cells": [
  {
   "cell_type": "markdown",
   "metadata": {},
   "source": [
    "## Stock Market Analysis"
   ]
  },
  {
   "cell_type": "markdown",
   "metadata": {},
   "source": [
    "In this notebook, we will discover and explore data from the stock market, particularly some dead stocks. We will see how to use UpstoxApi by [Upstox](https://upstox.com/) to get stock historical data, for 1 min chart(open, high, low, close)."
   ]
  },
  {
   "cell_type": "markdown",
   "metadata": {},
   "source": [
    "### Getting the Instrument details"
   ]
  },
  {
   "cell_type": "markdown",
   "metadata": {},
   "source": [
    "* instrument_key\t-->\tThe unique identifier used across Upstox APIs for instrument identification.\n",
    "* exchange_token\t-->\tThe numerical identifier issued by the exchange representing the instrument.\n",
    "* tradingsymbol\t    -->\tShows the trading symbol which could be a combination of symbol name, instrument, expiry date etc.\n",
    "* name\t            -->\tName of the company (for equity instruments).\n",
    "* last_price\t    -->\tLast traded price.\n",
    "* expiry\t        -->\tExpiry date (for derivatives). Data format is yyyy-MM-dd\n",
    "* strike\t        -->\tIndicates the predetermined price at which an option can be bought or sold when it's exercised.\n",
    "* tick_size\t        -->\tMeasure of the minimum upward or downward movement in the price of an instrument.\n",
    "* lot_size\t        -->\tMinimum size in which the stock futures or index futures can be traded.\n",
    "* instrument_type\t-->\tInstrument type of a particular contract. Possible values: FUTSTK, OPTSTK, OPTIDX etc.\n",
    "* option_type\t    -->\tOption type of the option contracts (applicable only for options contract). Possible values: CE, PE\n",
    "* exchange\t        -->\tExchange to which the order is associated.Possible values: NSE_EQ, NSE_FO, NCD_FO, NSE_INDEX, BSE_EQ, BSE_FO, BCD_FO, BSE_INDEX, MCX_FO, NSE_COM etc."
   ]
  },
  {
   "cell_type": "code",
   "execution_count": 20,
   "metadata": {},
   "outputs": [
    {
     "name": "stdout",
     "output_type": "stream",
     "text": [
      "[\n",
      "   {\n",
      "      \"segment\": \"NSE_EQ\",\n",
      "      \"name\": \"LAKSHYA POWERTECH LIMITED\",\n",
      "      \"exchange\": \"NSE\",\n",
      "      \"isin\": \"INE0VZS01015\",\n",
      "      \"instrument_type\": \"SM\",\n",
      "      \"instrument_key\": \"NSE_EQ|INE0VZS01015\",\n",
      "      \"lot_size\": 800,\n",
      "      \"freeze_quantity\": 100000.0,\n",
      "      \"exchange_token\": \"25860\",\n",
      "      \"tick_size\": 5.0,\n",
      "      \"trading_symbol\": \"LAKSHYA\",\n",
      "      \"qty_multiplier\": 1.0,\n",
      "      \"security_type\": \"SME\"\n",
      "   }\n",
      "]\n"
     ]
    }
   ],
   "source": [
    "import gzip\n",
    "import json\n",
    "\n",
    "# Path to the compressed JSON file\n",
    "file_path = \"NSE.json.gz\"\n",
    "\n",
    "# Function to extract and read JSON data\n",
    "def extract_json_data(file_path):\n",
    "    with gzip.open(file_path, 'rt', encoding='utf-8') as file:\n",
    "        data = json.load(file)\n",
    "    return data\n",
    "\n",
    "# Extract data\n",
    "data = extract_json_data(file_path)\n",
    "\n",
    "# Function to filter by segment\n",
    "def filter_by_segment(data, segment=None, name=None, instrument_type=None, \n",
    "                      instrument_key=None, exchange_token=None, trading_symbol=None):\n",
    "    \n",
    "    filtered_data = []\n",
    "    for item in data:\n",
    "        if (\n",
    "            (segment is None or item.get(\"segment\") == segment)\n",
    "            and (name is None or item.get(\"name\") == name)\n",
    "            and (instrument_type is None or item.get(\"instrument_type\") == instrument_type)\n",
    "            and (instrument_key is None or item.get(\"instrument_key\") == instrument_key)\n",
    "            and (exchange_token is None or item.get(\"exchange_token\") == exchange_token)\n",
    "            and (trading_symbol is None or item.get(\"trading_symbol\") == trading_symbol)\n",
    "        ):\n",
    "            filtered_data.append(item)\n",
    "\n",
    "    \n",
    "    return filtered_data\n",
    "\n",
    "# Example: Filter for 'NCD_FO' segment\n",
    "filteredTicker = filter_by_segment(data, \"NSE_EQ\", \"LAKSHYA POWERTECH LIMITED\", None, None, None, None)\n",
    "\n",
    "# Print the first 5 records from the filtered data\n",
    "print(json.dumps(filteredTicker, indent=3))"
   ]
  },
  {
   "cell_type": "code",
   "execution_count": 19,
   "metadata": {},
   "outputs": [
    {
     "name": "stdout",
     "output_type": "stream",
     "text": [
      " * Serving Flask app '__main__'\n",
      " * Debug mode: on\n"
     ]
    },
    {
     "name": "stderr",
     "output_type": "stream",
     "text": [
      "WARNING: This is a development server. Do not use it in a production deployment. Use a production WSGI server instead.\n",
      " * Running on http://127.0.0.1:5000\n",
      "Press CTRL+C to quit\n"
     ]
    }
   ],
   "source": [
    "import requests\n",
    "import threading\n",
    "from flask import Flask, request, jsonify, redirect, session\n",
    "\n",
    "# Flask App\n",
    "app = Flask(__name__)\n",
    "app.secret_key = \"2356\"\n",
    "\n",
    "@app.route('/')\n",
    "def login():\n",
    "    return redirect(\"https://api.upstox.com/v2/login/authorization/dialog?response_type=code&client_id=3146de73-0e14-4bac-af8c-b248c718e43e&redirect_uri=http://127.0.0.1:5000/callback&state=xyz\")\n",
    "\n",
    "@app.route('/callback')\n",
    "def callback():\n",
    "    code = request.args.get(\"code\")\n",
    "    if not code:\n",
    "        return \"Authorization failed\", 400\n",
    "\n",
    "    payload = {\n",
    "        \"code\": code,\n",
    "        \"client_id\": \"3146de73-0e14-4bac-af8c-b248c718e43e\",\n",
    "        \"client_secret\": \"tpfd7qwdmd\",\n",
    "        \"redirect_uri\": \"http://127.0.0.1:5000/callback\",\n",
    "        \"grant_type\": \"authorization_code\",\n",
    "    }\n",
    "    response = requests.post(\"https://api.upstox.com/v2/login/authorization/token\", data=payload)\n",
    "\n",
    "    try:\n",
    "        data = response.json()\n",
    "    except requests.exceptions.JSONDecodeError:\n",
    "        return \"Failed to decode response from Upstox\", 500\n",
    "\n",
    "    if \"access_token\" not in data:\n",
    "        return jsonify({\"error\": data}), 400\n",
    "\n",
    "    session[\"access_token\"] = data[\"access_token\"]\n",
    "    return redirect(\"/profile\")\n",
    "\n",
    "@app.route('/profile')\n",
    "def profile():\n",
    "    if \"access_token\" not in session:\n",
    "        return redirect(\"/\")\n",
    "    \n",
    "    headers = {\"Authorization\": f\"Bearer {session['access_token']}\"}\n",
    "    response = requests.get(\"https://api.upstox.com/v2/user/profile\", headers=headers)\n",
    "\n",
    "    try:\n",
    "        return jsonify(response.json())\n",
    "    except requests.exceptions.JSONDecodeError:\n",
    "        return \"Failed to decode profile response\", 500\n",
    "\n",
    "# Run Flask in a background thread (if inside Jupyter)\n",
    "def run_flask():\n",
    "    app.run(debug=True, use_reloader=False)\n",
    "\n",
    "threading.Thread(target=run_flask).start()"
   ]
  },
  {
   "cell_type": "code",
   "execution_count": null,
   "metadata": {},
   "outputs": [],
   "source": [
    "def make_request(method, url, header=None, params=None, data=None):\n",
    "    response = None\n",
    "    try:\n",
    "        if method == 'GET':\n",
    "            request = requests.get(url, headers=header, params=params)\n",
    "        else:\n",
    "            raise ValueError(\"Not Valid HTTP Method\")\n",
    "        \n",
    "        if request.status_code == 200:\n",
    "            return request.json()\n",
    "        else:\n",
    "            return response\n",
    "    except request.exceptions.RequestException as e:\n",
    "        print(f'Error : {e}')\n",
    "        return None"
   ]
  },
  {
   "cell_type": "code",
   "execution_count": null,
   "metadata": {},
   "outputs": [],
   "source": [
    "interval= \"1minute\"\n",
    "from_date = \"2021-09-30\"\n",
    "to_date = \"2021-10-15\"\n",
    "\n",
    "url= f\"https://api.upstox.com/historical/nse_eq?symbol=LAKSHYAPOWER&interval={interval}&from={from_date}&to={to_date}\"\n",
    "header = {\n",
    "    'accept': 'application/json',\n",
    "    'Authorization': f'Bearer {session[\"access_token\"]}'\n",
    "    }\n",
    "\n",
    "response = make_request('GET', url, header=header)\n",
    "print(response)\n",
    "\n",
    "url= f\"https://api.upstox.com/v2/historical-candle/intraday/{instrument_key}/{interval}\"\n",
    "header = {\n",
    "    'accept': 'application/json',\n",
    "    'Authorization': f'Bearer {session[\"access_token\"]}'\n",
    "    }\n",
    "response = make_request('GET', url, header=header)\n",
    "print(response)"
   ]
  }
 ],
 "metadata": {
  "kernelspec": {
   "display_name": "venv",
   "language": "python",
   "name": "python3"
  },
  "language_info": {
   "codemirror_mode": {
    "name": "ipython",
    "version": 3
   },
   "file_extension": ".py",
   "mimetype": "text/x-python",
   "name": "python",
   "nbconvert_exporter": "python",
   "pygments_lexer": "ipython3",
   "version": "3.12.2"
  }
 },
 "nbformat": 4,
 "nbformat_minor": 2
}
